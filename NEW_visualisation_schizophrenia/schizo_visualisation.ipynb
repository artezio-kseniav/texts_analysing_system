{
 "cells": [
  {
   "cell_type": "markdown",
   "metadata": {},
   "source": [
    "## Texts Visualisation in numerical 3-dimensional space for articles in schizophrenia area"
   ]
  },
  {
   "cell_type": "code",
   "execution_count": 1,
   "metadata": {
    "collapsed": false
   },
   "outputs": [
    {
     "name": "stdout",
     "output_type": "stream",
     "text": [
      "[nltk_data] Downloading package stopwords to\n",
      "[nltk_data]     C:\\Users\\Ksenia\\AppData\\Roaming\\nltk_data...\n",
      "[nltk_data]   Package stopwords is already up-to-date!\n",
      "[nltk_data] Downloading package wordnet to\n",
      "[nltk_data]     C:\\Users\\Ksenia\\AppData\\Roaming\\nltk_data...\n",
      "[nltk_data]   Package wordnet is already up-to-date!\n"
     ]
    }
   ],
   "source": [
    "# Term Frequency – Inverse Document Frequency (TF – IDF).\n",
    "from sklearn.feature_extraction.text import TfidfVectorizer\n",
    "\n",
    "# t-distributed Stochastic Neighbor Embedding.\n",
    "from sklearn.manifold import TSNE\n",
    "\n",
    "# Used for text preprocessing and part of speech tagging.\n",
    "import nltk\n",
    "from nltk import word_tokenize, pos_tag\n",
    "from nltk.corpus import stopwords\n",
    "from nltk.stem.lancaster import LancasterStemmer\n",
    "from nltk.stem import WordNetLemmatizer\n",
    "\n",
    "# Download NLTK corpuses.\n",
    "nltk.download(\"stopwords\")\n",
    "nltk.download('wordnet')\n",
    "\n",
    "import os\n",
    "import string\n",
    "\n",
    "# Used for data representation.\n",
    "import pandas as pd\n",
    "import numpy as np\n",
    "\n",
    "# Used for visualisation.\n",
    "import matplotlib.pyplot as plt\n",
    "from mpl_toolkits.mplot3d import proj3d\n",
    "import pylab as pyl\n",
    "from mpl_toolkits.mplot3d import axes3d\n"
   ]
  },
  {
   "cell_type": "code",
   "execution_count": 2,
   "metadata": {
    "collapsed": true
   },
   "outputs": [],
   "source": [
    "PATH_TEST_SET = 'C:/Users/Ksenia/texts_analysing_system/UPDATED_schizophrenia_area/schizophrenia_dataset/'"
   ]
  },
  {
   "cell_type": "code",
   "execution_count": 3,
   "metadata": {
    "collapsed": false
   },
   "outputs": [
    {
     "name": "stdout",
     "output_type": "stream",
     "text": [
      "***** File Name Mapping *****\n",
      "0: \"Association of Hormonal Contraception With Depression.txt\"\n",
      "1: \"Behavioral Interventions for Antipsychotic Medication Associated Obesity.txt\"\n",
      "2: \"Care for Adolescents with Depression in Primary Care Settings.txt\"\n",
      "3: \"Cigarette Smoking and the Onset and Persistence of Panic Attacks During Mid-Adulthood in the United States.txt\"\n",
      "4: \"Efficacy of Topiramate in the Treatment of Crack Cocaine Dependence.txt\"\n",
      "5: \"Efficacy, Acceptability, and Tolerability of Antipsychotics in Treatment-Resistant Schizophrenia.txt\"\n",
      "6: \"Exaggerated Acquisition and Resistance to Extinction of Avoidance Behavior in Treated Heroin-Dependent Men.txt\"\n",
      "7: \"Short-term Suicide Risk After Psychiatric Hospital Discharge.txt\"\n",
      "8: \"Treatment Preferences of Psychotherapy Patients with Chronic PTSD.txt\"\n",
      "9: \"Use of Acetaminophen (Paracetamol) During Pregnancy .txt\"\n"
     ]
    }
   ],
   "source": [
    "file_name_mapping = {}\n",
    "test_set = []\n",
    "count = 0\n",
    "\n",
    "for file in os.listdir(PATH_TEST_SET):\n",
    "    if file.endswith(\".txt\"):\n",
    "        file_name_mapping[count] = file\n",
    "        count += 1\n",
    "        with open(PATH_TEST_SET + file, 'r') as f:\n",
    "            for line in f:\n",
    "                line = line.decode(\"ascii\", \"ignore\")\n",
    "                # document should always contain only one line\n",
    "                test_set.append(line)\n",
    "\n",
    "print('***** File Name Mapping *****')           \n",
    "for k, v in file_name_mapping.items():\n",
    "    print('{}: \"{}\"'.format(k, v))"
   ]
  },
  {
   "cell_type": "code",
   "execution_count": 4,
   "metadata": {
    "collapsed": true
   },
   "outputs": [],
   "source": [
    "colors_mapping = {\n",
    "    0: 'navy',\n",
    "    1: 'darkmagenta',\n",
    "    2: 'chartreuse',\n",
    "    3: 'blue',\n",
    "    4: 'plum',\n",
    "    5: 'gold',\n",
    "    6: 'dimgrey',\n",
    "    7: 'red',\n",
    "    8: 'darkgreen',    \n",
    "    9: 'darkgoldenrod',\n",
    "}"
   ]
  },
  {
   "cell_type": "code",
   "execution_count": 5,
   "metadata": {
    "collapsed": true
   },
   "outputs": [],
   "source": [
    "def text_preprocessing(test_set):\n",
    "    prepared_test_set = list()\n",
    "    for document in test_set:\n",
    "        \n",
    "        # tokenization – process of converting a text into tokens\n",
    "        tokens = word_tokenize(document)\n",
    "        \n",
    "        # remove stop-words\n",
    "        filtered_doc_words = [word for word in tokens if word not in stopwords.words('english')]\n",
    "        \n",
    "        # lemmatization process - procedure of obtaining the root form of the word\n",
    "        wordnet_lemmatizer = WordNetLemmatizer()\n",
    "        lemmatization_words = []\n",
    "        for word in filtered_doc_words:\n",
    "            lemm_word = wordnet_lemmatizer.lemmatize(word)\n",
    "            lemmatization_words.append(lemm_word)\n",
    "        \n",
    "        prepared_doc = ' '.join(lemmatization_words)\n",
    "        prepared_test_set.append(prepared_doc)\n",
    "        \n",
    "    return prepared_test_set\n",
    "\n",
    "prepared_test_set = text_preprocessing(test_set)"
   ]
  },
  {
   "cell_type": "code",
   "execution_count": 6,
   "metadata": {
    "collapsed": false
   },
   "outputs": [],
   "source": [
    "stemmer = nltk.stem.porter.PorterStemmer()\n",
    "\n",
    "def stem_tokens(tokens, stemmer):\n",
    "    stemmed = []\n",
    "    for item in tokens:\n",
    "        stemmed.append(stemmer.stem(item))\n",
    "    return stemmed\n",
    "\n",
    "def tokenize(text):\n",
    "    tokens = nltk.word_tokenize(text)\n",
    "    tokens = [i for i in tokens if i not in string.punctuation]\n",
    "    stems = stem_tokens(tokens, stemmer)\n",
    "    return stems\n"
   ]
  },
  {
   "cell_type": "code",
   "execution_count": 7,
   "metadata": {
    "collapsed": false
   },
   "outputs": [],
   "source": [
    "def get_ngramms_repr(ngramm_value):\n",
    "    # TF-IDF matrix for corpus, extracting 4-gramms\n",
    "    corpus_tfidf = TfidfVectorizer(\n",
    "        ngram_range=ngramm_value, stop_words='english', tokenizer=tokenize)\n",
    "    \n",
    "    corpus_representation = corpus_tfidf.fit_transform(prepared_test_set)\n",
    "    features= corpus_tfidf.get_feature_names()\n",
    "    corpus_representation_arr = corpus_representation.toarray()\n",
    "    ngramm_representation = corpus_representation_arr.transpose()\n",
    "    \n",
    "    return ngramm_representation, features"
   ]
  },
  {
   "cell_type": "code",
   "execution_count": 8,
   "metadata": {
    "collapsed": true
   },
   "outputs": [],
   "source": [
    "def visualize3DData(X, mappingfeatures, features, ngramm):\n",
    "    # visualize data in 3d plot with popover next to mouse position.\n",
    "\n",
    "    fig = plt.figure(figsize=(50,50))\n",
    "    ax = fig.add_subplot(111, projection = '3d')\n",
    "    set_labels = set()\n",
    "    \n",
    "    for i in xrange((int(X.shape[0])-1)):\n",
    "        xs = X[i,0]\n",
    "        ys = X[i,1]\n",
    "        zs = X[i,2]\n",
    "\n",
    "        color = None\n",
    "        label = None\n",
    "\n",
    "        if i in mappingfeatures[0]:\n",
    "            color = colors_mapping[0]\n",
    "            label = '{}'.format(file_name_mapping[0])\n",
    "\n",
    "        if i in mappingfeatures[1]:\n",
    "            color = colors_mapping[1]\n",
    "            label = '{}'.format(file_name_mapping[1])\n",
    "\n",
    "        if i in mappingfeatures[2]:\n",
    "            color = colors_mapping[2]\n",
    "            label = '{}'.format(file_name_mapping[2])\n",
    "\n",
    "        if i in mappingfeatures[3]:\n",
    "            color = colors_mapping[3]\n",
    "            label = '{}'.format(file_name_mapping[3])\n",
    "\n",
    "        if i in mappingfeatures[4]:\n",
    "            color = colors_mapping[4]\n",
    "            label = '{}'.format(file_name_mapping[4])\n",
    "\n",
    "        if i in mappingfeatures[5]:\n",
    "            color = colors_mapping[5]\n",
    "            label = '{}'.format(file_name_mapping[5])    \n",
    "\n",
    "        if i in mappingfeatures[6]:\n",
    "            color = colors_mapping[6]\n",
    "            label = '{}'.format(file_name_mapping[6])\n",
    "\n",
    "        if i in mappingfeatures[7]:\n",
    "            color = colors_mapping[7]\n",
    "            label = '{}'.format(file_name_mapping[7])\n",
    "\n",
    "        if i in mappingfeatures[8]:\n",
    "            color = colors_mapping[8]\n",
    "            label = '{}'.format(file_name_mapping[8])\n",
    "\n",
    "        if i in mappingfeatures[9]:\n",
    "            color = colors_mapping[9]\n",
    "            label = '{}'.format(file_name_mapping[9])\n",
    "\n",
    "        if label in set_labels:\n",
    "            label = None\n",
    "        else:    \n",
    "            set_labels.add(label)\n",
    "\n",
    "        ax.scatter(xs, ys, zs, c=color, marker='o', alpha=0.5, s=120, label=label)\n",
    "        \n",
    "    ax.set_title('{N}-grams document visualisation in 3d space,\\n based on TF-IDF matrix \\n \\n'.format(N=ngramm))\n",
    "    ax.set_xlim(min(X[:,0]), max(X[:,0]))\n",
    "    ax.set_ylim(min(X[:,1]), max(X[:,1]))\n",
    "    ax.set_zlim(min(X[:,2]), max(X[:,2]))\n",
    "    plt.legend(loc='lower left', ncol=2, fontsize=10, bbox_to_anchor=(0, 0))\n",
    "\n",
    "\n",
    "    def distance(point, event):\n",
    "        # return distance between mouse position and given data point\n",
    "\n",
    "        assert point.shape == (3,), \"distance: point.shape is wrong: %s, must be (3,)\" % point.shape\n",
    "\n",
    "        # Project 3d data space to 2d data space\n",
    "        x2, y2, _ = proj3d.proj_transform(point[0], point[1], point[2], plt.gca().get_proj())\n",
    "        # Convert 2d data space to 2d screen space\n",
    "        x3, y3 = ax.transData.transform((x2, y2))\n",
    "\n",
    "        return np.sqrt ((x3 - event.x)**2 + (y3 - event.y)**2)\n",
    "\n",
    "\n",
    "    def calcClosestDatapoint(X, event):\n",
    "        # calculate which data point is closest to the mouse position.\n",
    "\n",
    "        distances = [distance (X[i, 0:3], event) for i in range(X.shape[0])]\n",
    "        return np.argmin(distances)\n",
    "\n",
    "\n",
    "    def annotatePlot(X, index):\n",
    "        #create popover label in 3d chart\n",
    "        # if we have previously displayed another label, remove it first\n",
    "        if hasattr(annotatePlot, 'label'):\n",
    "            annotatePlot.label.remove()\n",
    "        # Get data point from array of points X, at position index\n",
    "        x2, y2, _ = proj3d.proj_transform(X[index, 0], X[index, 1], X[index, 2], ax.get_proj())\n",
    "        annotatePlot.label = plt.annotate( '{}'.format(features[index]),\n",
    "            xy = (x2,y2), xytext = (-60, 60), textcoords = 'offset points', ha = 'right', \n",
    "            va = 'top', fontsize = 20,\n",
    "            bbox = dict(boxstyle = 'round,pad=0.8', fc = 'yellow', alpha = 1, ec=(1., .5, .5)),\n",
    "            arrowprops = dict(arrowstyle = 'fancy', connectionstyle = 'arc3,rad=0'))\n",
    "        fig.canvas.draw()\n",
    "\n",
    "\n",
    "    def onMouseMotion(event):\n",
    "        # event that is triggered when mouse is moved\n",
    "        # shows text annotation over data point closest to mouse\n",
    "        closestIndex = calcClosestDatapoint(X, event)\n",
    "        annotatePlot (X, closestIndex)\n",
    "\n",
    "    fig.canvas.mpl_connect('motion_notify_event', onMouseMotion)\n",
    "    plt.show()"
   ]
  },
  {
   "cell_type": "code",
   "execution_count": 9,
   "metadata": {
    "collapsed": true
   },
   "outputs": [],
   "source": [
    "def make_visualisation(get_ngramm_repr, features, reduced_matr, ngramm):\n",
    "    \n",
    "    ngramms_number, texts_number = get_ngramm_repr.shape\n",
    "    \n",
    "    mappingfeatures = {}\n",
    "\n",
    "    for i in xrange(int(texts_number)):\n",
    "        features_presented = []\n",
    "        corpus_representation_arr = get_ngramm_repr.transpose()\n",
    "        doc_raw = enumerate(corpus_representation_arr[i])\n",
    "        for ngram in doc_raw:\n",
    "            if ngram[1] > 0.0:\n",
    "                features_presented.append(ngram[0])\n",
    "\n",
    "        mappingfeatures[i] = features_presented\n",
    "    \n",
    "    X = reduced_matr\n",
    "    visualize3DData(X, mappingfeatures, features, ngramm)\n",
    "        "
   ]
  },
  {
   "cell_type": "markdown",
   "metadata": {},
   "source": [
    "### ----------------------------- Extraction of 4-gramms and Visualisation -----------------------------"
   ]
  },
  {
   "cell_type": "code",
   "execution_count": 10,
   "metadata": {
    "collapsed": false
   },
   "outputs": [
    {
     "data": {
      "text/plain": [
       "(2231L, 10L)"
      ]
     },
     "execution_count": 10,
     "metadata": {},
     "output_type": "execute_result"
    }
   ],
   "source": [
    "get_4gramm_repr = get_ngramms_repr((4,4))\n",
    "\n",
    "repr_4gramms = get_4gramm_repr[0]\n",
    "features_4gramm = get_4gramm_repr[1]\n",
    "\n",
    "repr_4gramms.shape"
   ]
  },
  {
   "cell_type": "code",
   "execution_count": 11,
   "metadata": {
    "collapsed": false
   },
   "outputs": [
    {
     "data": {
      "text/plain": [
       "(2231L, 3L)"
      ]
     },
     "execution_count": 11,
     "metadata": {},
     "output_type": "execute_result"
    }
   ],
   "source": [
    "# similar to PCA method for dimension reduction\n",
    "newtsne = TSNE(n_components=3)\n",
    "\n",
    "reduced_matr_4gramm = newtsne.fit_transform(repr_4gramms)\n",
    "reduced_matr_4gramm.shape"
   ]
  },
  {
   "cell_type": "code",
   "execution_count": 12,
   "metadata": {
    "collapsed": false
   },
   "outputs": [
    {
     "name": "stderr",
     "output_type": "stream",
     "text": [
      "C:\\Users\\Ksenia\\Anaconda\\lib\\site-packages\\matplotlib\\collections.py:590: FutureWarning: elementwise comparison failed; returning scalar instead, but in the future will perform elementwise comparison\n",
      "  if self._edgecolors == str('face'):\n"
     ]
    }
   ],
   "source": [
    "make_visualisation(repr_4gramms, features_4gramm, reduced_matr_4gramm, 4)"
   ]
  },
  {
   "cell_type": "markdown",
   "metadata": {
    "collapsed": true
   },
   "source": [
    "### ----------------------------- Extraction of 3-gramms and Visualisation -----------------------------"
   ]
  },
  {
   "cell_type": "code",
   "execution_count": 13,
   "metadata": {
    "collapsed": false
   },
   "outputs": [
    {
     "data": {
      "text/plain": [
       "(2156L, 10L)"
      ]
     },
     "execution_count": 13,
     "metadata": {},
     "output_type": "execute_result"
    }
   ],
   "source": [
    "get_3gramm_repr = get_ngramms_repr((3,3))\n",
    "\n",
    "repr_3gramms = get_3gramm_repr[0]\n",
    "features_3gramm = get_3gramm_repr[1]\n",
    "\n",
    "repr_3gramms.shape"
   ]
  },
  {
   "cell_type": "code",
   "execution_count": 14,
   "metadata": {
    "collapsed": false
   },
   "outputs": [
    {
     "data": {
      "text/plain": [
       "(2156L, 3L)"
      ]
     },
     "execution_count": 14,
     "metadata": {},
     "output_type": "execute_result"
    }
   ],
   "source": [
    "# similar to PCA method for dimension reduction\n",
    "newtsne = TSNE(n_components=3)\n",
    "\n",
    "reduced_matr_3gramm = newtsne.fit_transform(repr_3gramms)\n",
    "reduced_matr_3gramm.shape"
   ]
  },
  {
   "cell_type": "code",
   "execution_count": 15,
   "metadata": {
    "collapsed": true
   },
   "outputs": [],
   "source": [
    "make_visualisation(repr_3gramms, features_3gramm, reduced_matr_3gramm, 3)"
   ]
  },
  {
   "cell_type": "markdown",
   "metadata": {},
   "source": [
    "### ----------------------------- Extraction of 5-gramms and Visualisation -----------------------------"
   ]
  },
  {
   "cell_type": "code",
   "execution_count": 16,
   "metadata": {
    "collapsed": false
   },
   "outputs": [
    {
     "data": {
      "text/plain": [
       "(2254L, 10L)"
      ]
     },
     "execution_count": 16,
     "metadata": {},
     "output_type": "execute_result"
    }
   ],
   "source": [
    "get_5gramm_repr = get_ngramms_repr((5,5))\n",
    "\n",
    "repr_5gramms = get_5gramm_repr[0]\n",
    "features_5gramm = get_5gramm_repr[1]\n",
    "\n",
    "repr_5gramms.shape"
   ]
  },
  {
   "cell_type": "code",
   "execution_count": 17,
   "metadata": {
    "collapsed": false
   },
   "outputs": [
    {
     "data": {
      "text/plain": [
       "(2254L, 3L)"
      ]
     },
     "execution_count": 17,
     "metadata": {},
     "output_type": "execute_result"
    }
   ],
   "source": [
    "# similar to PCA method for dimension reduction\n",
    "newtsne = TSNE(n_components=3)\n",
    "\n",
    "reduced_matr_5gramm = newtsne.fit_transform(repr_5gramms)\n",
    "reduced_matr_5gramm.shape"
   ]
  },
  {
   "cell_type": "code",
   "execution_count": 18,
   "metadata": {
    "collapsed": true
   },
   "outputs": [],
   "source": [
    "make_visualisation(repr_5gramms, features_5gramm, reduced_matr_5gramm, 5)"
   ]
  },
  {
   "cell_type": "code",
   "execution_count": null,
   "metadata": {
    "collapsed": true
   },
   "outputs": [],
   "source": []
  }
 ],
 "metadata": {
  "kernelspec": {
   "display_name": "Python 2",
   "language": "python",
   "name": "python2"
  },
  "language_info": {
   "codemirror_mode": {
    "name": "ipython",
    "version": 2
   },
   "file_extension": ".py",
   "mimetype": "text/x-python",
   "name": "python",
   "nbconvert_exporter": "python",
   "pygments_lexer": "ipython2",
   "version": "2.7.10"
  }
 },
 "nbformat": 4,
 "nbformat_minor": 0
}
